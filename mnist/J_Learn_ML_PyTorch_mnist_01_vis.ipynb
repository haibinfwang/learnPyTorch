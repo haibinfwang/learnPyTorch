{
 "cells": [
  {
   "cell_type": "markdown",
   "metadata": {},
   "source": [
    "# MNIST: loading and visualization"
   ]
  },
  {
   "cell_type": "code",
   "execution_count": 1,
   "metadata": {},
   "outputs": [],
   "source": [
    "# J_Learn_ML_PyTorch_mnist_01_vis\n",
    "# Visualize mnist dataset\n",
    "# Based on https://www.kaggle.com/vincentlefoulon/pytorch-mnist\n",
    "\n",
    "import numpy as np\n",
    "import torch\n",
    "import torchvision\n",
    "\n",
    "import matplotlib.pyplot as plt\n",
    "%matplotlib inline\n",
    "\n",
    "import sys, os, platform\n"
   ]
  },
  {
   "cell_type": "markdown",
   "metadata": {},
   "source": [
    "## Datal loading and visualization"
   ]
  },
  {
   "cell_type": "code",
   "execution_count": 2,
   "metadata": {},
   "outputs": [
    {
     "name": "stderr",
     "output_type": "stream",
     "text": [
      "  0%|          | 0/9912422 [00:00<?, ?it/s]"
     ]
    },
    {
     "name": "stdout",
     "output_type": "stream",
     "text": [
      "Downloading http://yann.lecun.com/exdb/mnist/train-images-idx3-ubyte.gz to /tmp/MNIST/raw/train-images-idx3-ubyte.gz\n"
     ]
    },
    {
     "name": "stderr",
     "output_type": "stream",
     "text": [
      "100%|█████████▉| 9912320/9912422 [27:45<00:00, 18771.67it/s] "
     ]
    },
    {
     "name": "stdout",
     "output_type": "stream",
     "text": [
      "Extracting /tmp/MNIST/raw/train-images-idx3-ubyte.gz to /tmp/MNIST/raw\n"
     ]
    },
    {
     "name": "stderr",
     "output_type": "stream",
     "text": [
      "\n",
      "0it [00:00, ?it/s]\u001b[A\n",
      "  0%|          | 0/28881 [00:00<?, ?it/s]"
     ]
    },
    {
     "name": "stdout",
     "output_type": "stream",
     "text": [
      "Downloading http://yann.lecun.com/exdb/mnist/train-labels-idx1-ubyte.gz to /tmp/MNIST/raw/train-labels-idx1-ubyte.gz\n"
     ]
    },
    {
     "name": "stderr",
     "output_type": "stream",
     "text": [
      "\u001b[A\n",
      " 28%|██▊       | 8192/28881 [00:00<00:00, 29269.43it/s]\u001b[A\n",
      "32768it [00:00, 41538.22it/s]                           \u001b[A\n",
      "\n",
      "0it [00:00, ?it/s]\u001b[A"
     ]
    },
    {
     "name": "stdout",
     "output_type": "stream",
     "text": [
      "Extracting /tmp/MNIST/raw/train-labels-idx1-ubyte.gz to /tmp/MNIST/raw\n",
      "Downloading http://yann.lecun.com/exdb/mnist/t10k-images-idx3-ubyte.gz to /tmp/MNIST/raw/t10k-images-idx3-ubyte.gz\n"
     ]
    },
    {
     "name": "stderr",
     "output_type": "stream",
     "text": [
      "\n",
      "  0%|          | 8192/1648877 [00:00<02:21, 11556.95it/s]\u001b[A\n",
      "  1%|          | 16384/1648877 [00:01<02:43, 10007.20it/s]\u001b[A\n",
      "  2%|▏         | 40960/1648877 [00:01<01:54, 14038.37it/s]\u001b[A\n",
      "  3%|▎         | 49152/1648877 [00:02<02:06, 12611.24it/s]\u001b[A\n",
      "  5%|▍         | 81920/1648877 [00:03<01:37, 16065.88it/s]\u001b[A\n",
      "  7%|▋         | 114688/1648877 [00:04<01:15, 20347.49it/s]\u001b[A\n",
      "  9%|▉         | 155648/1648877 [00:04<00:58, 25430.13it/s]\u001b[A\n",
      " 12%|█▏        | 196608/1648877 [00:05<00:45, 31816.60it/s]\u001b[A\n",
      " 13%|█▎        | 212992/1648877 [00:05<00:41, 34928.67it/s]\u001b[A\n",
      " 14%|█▍        | 229376/1648877 [00:05<00:33, 42674.91it/s]\u001b[A\n",
      " 14%|█▍        | 237568/1648877 [00:06<00:40, 35210.77it/s]\u001b[A\n",
      " 15%|█▍        | 245760/1648877 [00:06<00:42, 32856.34it/s]\u001b[A\n",
      " 16%|█▋        | 270336/1648877 [00:06<00:34, 40289.81it/s]\u001b[A\n",
      " 17%|█▋        | 278528/1648877 [00:07<00:40, 34001.52it/s]\u001b[A\n",
      " 17%|█▋        | 286720/1648877 [00:07<00:37, 36674.56it/s]\u001b[A\n",
      " 19%|█▉        | 311296/1648877 [00:07<00:31, 42029.17it/s]\u001b[A\n",
      " 23%|██▎       | 376832/1648877 [00:07<00:21, 58309.09it/s]\u001b[A\n",
      " 25%|██▌       | 417792/1648877 [00:08<00:18, 65954.79it/s]\u001b[A\n",
      " 27%|██▋       | 442368/1648877 [00:08<00:17, 69291.88it/s]\u001b[A\n",
      " 28%|██▊       | 466944/1648877 [00:08<00:14, 84226.39it/s]\u001b[A\n",
      " 29%|██▉       | 483328/1648877 [00:08<00:15, 73192.98it/s]\u001b[A\n",
      " 30%|███       | 499712/1648877 [00:09<00:17, 67154.89it/s]\u001b[A\n",
      " 32%|███▏      | 524288/1648877 [00:09<00:14, 77272.66it/s]\u001b[A\n",
      " 33%|███▎      | 540672/1648877 [00:09<00:16, 69002.14it/s]\u001b[A\n",
      " 34%|███▍      | 557056/1648877 [00:09<00:16, 66469.09it/s]\u001b[A\n",
      " 36%|███▌      | 589824/1648877 [00:10<00:13, 77069.03it/s]\u001b[A\n",
      " 37%|███▋      | 606208/1648877 [00:10<00:14, 71607.40it/s]\u001b[A\n",
      " 38%|███▊      | 622592/1648877 [00:11<00:20, 50209.67it/s]\u001b[A\n",
      "9920512it [28:00, 18771.67it/s]                             [A\n",
      " 38%|███▊      | 630784/1648877 [00:23<00:26, 38066.34it/s]\u001b[A\n",
      " 39%|███▉      | 638976/1648877 [00:26<09:22, 1796.67it/s] \u001b[A\n",
      " 39%|███▉      | 647168/1648877 [00:30<09:10, 1818.99it/s]\u001b[A\n",
      " 41%|████      | 671744/1648877 [00:30<06:19, 2575.17it/s]\u001b[A\n",
      " 41%|████      | 679936/1648877 [00:38<08:46, 1840.08it/s]\u001b[A\n",
      " 43%|████▎     | 704512/1648877 [00:38<06:00, 2619.92it/s]\u001b[A\n",
      " 44%|████▍     | 729088/1648877 [00:39<04:19, 3542.13it/s]\u001b[A\n",
      " 45%|████▌     | 745472/1648877 [00:40<03:11, 4719.65it/s]\u001b[A\n",
      " 47%|████▋     | 778240/1648877 [00:40<02:11, 6641.09it/s]\u001b[A\n",
      " 50%|█████     | 827392/1648877 [00:40<01:28, 9237.55it/s]\u001b[A\n",
      " 51%|█████     | 843776/1648877 [00:41<01:06, 12129.16it/s]\u001b[A\n",
      " 53%|█████▎    | 868352/1648877 [00:41<00:48, 16030.53it/s]\u001b[A\n",
      " 54%|█████▍    | 892928/1648877 [00:42<00:39, 19228.00it/s]\u001b[A\n",
      " 55%|█████▍    | 901120/1648877 [00:51<04:39, 2674.46it/s] \u001b[A\n",
      " 55%|█████▌    | 909312/1648877 [00:51<03:16, 3766.63it/s]\u001b[A\n",
      " 56%|█████▌    | 917504/1648877 [00:57<04:37, 2633.53it/s]\u001b[A\n",
      " 58%|█████▊    | 950272/1648877 [01:00<03:28, 3350.88it/s]\u001b[A\n",
      " 58%|█████▊    | 958464/1648877 [01:08<05:53, 1950.56it/s]\u001b[A\n",
      " 59%|█████▉    | 974848/1648877 [01:09<04:03, 2763.28it/s]\u001b[A\n",
      " 60%|██████    | 991232/1648877 [01:14<03:54, 2804.25it/s]\u001b[A\n",
      " 61%|██████    | 1007616/1648877 [01:20<03:46, 2834.89it/s]\u001b[A\n",
      " 62%|██████▏   | 1024000/1648877 [01:24<03:26, 3021.86it/s]\u001b[A\n",
      " 63%|██████▎   | 1040384/1648877 [01:25<02:22, 4281.89it/s]\u001b[A\n",
      " 64%|██████▎   | 1048576/1648877 [01:29<03:18, 3029.90it/s]\u001b[A\n",
      " 64%|██████▍   | 1056768/1648877 [01:38<05:30, 1793.45it/s]\u001b[A\n",
      " 65%|██████▌   | 1073152/1648877 [01:43<04:33, 2105.09it/s]\u001b[A\n",
      " 67%|██████▋   | 1097728/1648877 [01:43<03:04, 2993.52it/s]\u001b[A\n",
      " 69%|██████▊   | 1130496/1648877 [01:43<02:01, 4255.64it/s]\u001b[A\n",
      " 70%|██████▉   | 1146880/1648877 [01:45<01:45, 4776.74it/s]\u001b[A\n",
      " 70%|███████   | 1155072/1648877 [02:03<01:43, 4776.74it/s]\u001b[A\n",
      " 71%|███████   | 1163264/1648877 [02:33<08:18, 973.59it/s] \u001b[A\n",
      " 71%|███████   | 1171456/1648877 [02:44<08:40, 917.25it/s]\u001b[A\n",
      " 73%|███████▎  | 1196032/1648877 [02:48<06:10, 1220.79it/s]\u001b[A\n",
      " 74%|███████▍  | 1220608/1648877 [02:48<04:06, 1740.11it/s]\u001b[A\n",
      " 75%|███████▌  | 1236992/1648877 [02:51<03:07, 2198.51it/s]\u001b[A\n",
      " 76%|███████▌  | 1245184/1648877 [02:55<03:12, 2102.27it/s]\u001b[A\n",
      " 76%|███████▌  | 1253376/1648877 [02:59<03:05, 2128.36it/s]\u001b[A\n",
      " 77%|███████▋  | 1261568/1648877 [03:07<03:54, 1654.23it/s]\u001b[A\n",
      " 78%|███████▊  | 1277952/1648877 [03:20<04:08, 1492.33it/s]\u001b[A\n",
      " 78%|███████▊  | 1286144/1648877 [03:33<04:03, 1492.33it/s]\u001b[A\n",
      " 78%|███████▊  | 1294336/1648877 [03:39<04:46, 1239.23it/s]\u001b[A\n",
      " 79%|███████▉  | 1302528/1648877 [03:43<04:14, 1361.40it/s]\u001b[A\n",
      " 79%|███████▉  | 1310720/1648877 [03:48<03:53, 1449.57it/s]\u001b[A\n",
      " 80%|███████▉  | 1318912/1648877 [03:53<03:35, 1532.80it/s]\u001b[A\n",
      " 80%|████████  | 1327104/1648877 [04:02<04:15, 1259.16it/s]\u001b[A\n",
      " 82%|████████▏ | 1351680/1648877 [04:02<02:45, 1793.86it/s]\u001b[A\n",
      " 83%|████████▎ | 1376256/1648877 [04:06<02:01, 2246.23it/s]\u001b[A\n",
      " 85%|████████▍ | 1400832/1648877 [04:09<01:24, 2918.34it/s]\u001b[A\n",
      " 85%|████████▌ | 1409024/1648877 [04:11<01:17, 3091.76it/s]\u001b[A\n",
      " 88%|████████▊ | 1449984/1648877 [04:13<00:47, 4166.68it/s]\u001b[A\n",
      " 89%|████████▉ | 1474560/1648877 [04:13<00:29, 5908.16it/s]\u001b[A\n",
      " 90%|█████████ | 1490944/1648877 [04:15<00:23, 6591.38it/s]\u001b[A\n",
      " 91%|█████████ | 1499136/1648877 [04:17<00:25, 5805.80it/s]\u001b[A\n",
      " 91%|█████████▏| 1507328/1648877 [04:19<00:26, 5381.58it/s]\u001b[A\n",
      " 92%|█████████▏| 1523712/1648877 [04:21<00:20, 6088.79it/s]\u001b[A\n",
      " 94%|█████████▍| 1548288/1648877 [04:21<00:11, 8603.01it/s]\u001b[A\n",
      " 95%|█████████▍| 1564672/1648877 [04:22<00:09, 8737.83it/s]\u001b[A\n",
      " 96%|█████████▌| 1581056/1648877 [04:24<00:07, 8795.68it/s]\u001b[A\n",
      " 97%|█████████▋| 1597440/1648877 [04:26<00:05, 8865.76it/s]\u001b[A\n",
      " 98%|█████████▊| 1622016/1648877 [04:26<00:02, 12464.29it/s]\u001b[A\n",
      " 99%|█████████▉| 1638400/1648877 [04:28<00:00, 11161.20it/s]\u001b[A\n",
      "\n",
      "8192it [00:00, 137415.87it/s]\n"
     ]
    },
    {
     "name": "stdout",
     "output_type": "stream",
     "text": [
      "Extracting /tmp/MNIST/raw/t10k-images-idx3-ubyte.gz to /tmp/MNIST/raw\n",
      "Downloading http://yann.lecun.com/exdb/mnist/t10k-labels-idx1-ubyte.gz to /tmp/MNIST/raw/t10k-labels-idx1-ubyte.gz\n",
      "Extracting /tmp/MNIST/raw/t10k-labels-idx1-ubyte.gz to /tmp/MNIST/raw\n",
      "Processing...\n",
      "Done!\n",
      "Number of samples in trainset: 60000\n"
     ]
    },
    {
     "name": "stderr",
     "output_type": "stream",
     "text": [
      "\n",
      "1654784it [04:43, 11161.20it/s]                             \u001b[A"
     ]
    }
   ],
   "source": [
    "# Loading mechanism\n",
    "batchSz=8\n",
    "\n",
    "trainset=torchvision.datasets.MNIST('/tmp',train=True,download=True,\n",
    "                                   transform=torchvision.transforms.ToTensor())\n",
    "trainLoader=torch.utils.data.DataLoader(trainset,batch_size=batchSz,shuffle=True)\n",
    "dataiter=iter(trainLoader)\n",
    "\n",
    "# trainset implements __len__ and __getitem__\n",
    "print('Number of samples in trainset: {:d}'.format(len(trainset)))"
   ]
  },
  {
   "cell_type": "code",
   "execution_count": 3,
   "metadata": {
    "scrolled": true
   },
   "outputs": [
    {
     "name": "stdout",
     "output_type": "stream",
     "text": [
      "Labels:  tensor([ 0,  9,  3,  3,  8,  3,  0,  8])\n",
      "Batch shape:  torch.Size([8, 1, 28, 28])\n"
     ]
    },
    {
     "data": {
      "text/plain": [
       "<matplotlib.image.AxesImage at 0x7f7d50f15160>"
      ]
     },
     "execution_count": 3,
     "metadata": {},
     "output_type": "execute_result"
    },
    {
     "data": {
      "image/png": "[encoded data removed]",
      "text/plain": [
       "<matplotlib.figure.Figure at 0x7f7db13839b0>"
      ]
     },
     "metadata": {},
     "output_type": "display_data"
    }
   ],
   "source": [
    "# Load a sample of data\n",
    "images,labels=dataiter.next() # images: B X C X H X W\n",
    "print('Labels: ', labels)\n",
    "print('Batch shape: ', images.size())\n",
    "\n",
    "# Display\n",
    "im=torchvision.utils.make_grid(images)\n",
    "plt.imshow(np.transpose(im.numpy(),(1,2,0)))"
   ]
  },
  {
   "cell_type": "code",
   "execution_count": 4,
   "metadata": {
    "scrolled": true
   },
   "outputs": [
    {
     "data": {
      "text/plain": [
       "torch.Size([8, 784])"
      ]
     },
     "execution_count": 4,
     "metadata": {},
     "output_type": "execute_result"
    }
   ],
   "source": [
    "# Flatten to data structure for MLP: [B X C X H W] --> [B x nFeature]\n",
    "images.view(batchSz,-1).size()"
   ]
  },
  {
   "cell_type": "markdown",
   "metadata": {},
   "source": [
    "## Summary and extension\n",
    "\n",
    "This section summarize the underlying mechanism of PyTorch data loading procedure above. See also https://am207.github.io/2018spring/wiki/ValidationSplits.html.\n",
    "\n",
    " - Class Dataset (torch.utils.data.Dataset), contains the data\n",
    "     - Abstrct class, to which all datasets should subclass\n",
    "     - The subclass implements __len__ and __getitem__\n",
    "     - torchvision.datasets.mnist.MNIST is such a subclass\n",
    " - Class DataLoader (torch.utils.data.DataLoader)\n",
    "     - This class takes torch.utils.data.Dataset, and provides sampler and iterator over it\n",
    " - Training and validation split\n",
    "     - Split indices (randomly, shuffled) to training and validation sets\n",
    "     - Use SubsetRandomSampler (torch.utils.data.sampler.SubsetRandomSampler) as the sampler of classDataLoader\n",
    "         - It is appropriate for training\n",
    "         - Non-shuffled sampler may be preferred for validtion, which does no exists in PyTorch\n",
    "     - Note SubsetRandomSampler takes indices as argument in instantiation, which is needed for split on indices\n",
    "         - For validation, we would need a \"SubsetSequentialSampler\", not SequentialSampler\n"
   ]
  },
  {
   "cell_type": "code",
   "execution_count": 5,
   "metadata": {
    "scrolled": true
   },
   "outputs": [],
   "source": [
    "# Train validation split\n",
    "nSample=len(trainset)\n",
    "tvRatio=0.8 # for trainging\n",
    "nTrain=int(nSample*tvRatio)\n",
    "idxPerm=np.random.permutation(nSample)\n",
    "\n",
    "idx_t=idxPerm[:9]  # Use a small set for testing below\n",
    "idx_v=idxPerm[nTrain:nTrain+5]\n",
    "\n",
    "sampler_t=torch.utils.data.sampler.SubsetRandomSampler(idx_t)\n",
    "sampler_v=torch.utils.data.sampler.SubsetRandomSampler(idx_v)\n",
    "\n",
    "loader_t=torch.utils.data.DataLoader(dataset=trainset,batch_size=4,sampler=sampler_t,drop_last=True)\n",
    "loader_v=torch.utils.data.DataLoader(dataset=trainset,batch_size=2,sampler=sampler_v,drop_last=True)\n"
   ]
  },
  {
   "cell_type": "code",
   "execution_count": 6,
   "metadata": {},
   "outputs": [
    {
     "name": "stdout",
     "output_type": "stream",
     "text": [
      "0 0 tensor([ 2,  4,  0,  7]) torch.Size([4, 1, 28, 28])\n",
      "0 1 tensor([ 2,  7,  7,  1]) torch.Size([4, 1, 28, 28])\n",
      "0 2 tensor([ 7]) torch.Size([1, 1, 28, 28])\n",
      "1 0 tensor([ 7,  2,  0,  2]) torch.Size([4, 1, 28, 28])\n",
      "1 1 tensor([ 7,  4,  7,  7]) torch.Size([4, 1, 28, 28])\n",
      "1 2 tensor([ 1]) torch.Size([1, 1, 28, 28])\n",
      "2 0 tensor([ 7,  7,  1,  7]) torch.Size([4, 1, 28, 28])\n",
      "2 1 tensor([ 2,  2,  7,  0]) torch.Size([4, 1, 28, 28])\n",
      "2 2 tensor([ 4]) torch.Size([1, 1, 28, 28])\n",
      "3 0 tensor([ 7,  1,  2,  4]) torch.Size([4, 1, 28, 28])\n",
      "3 1 tensor([ 0,  2,  7,  7]) torch.Size([4, 1, 28, 28])\n",
      "3 2 tensor([ 7]) torch.Size([1, 1, 28, 28])\n"
     ]
    }
   ],
   "source": [
    "# Generate training mini-batches\n",
    "for epoch in range(4):\n",
    "    for kk, (img,label) in enumerate(loader_t):\n",
    "        print(epoch, kk, label, img.size())"
   ]
  }
 ],
 "metadata": {
  "kernelspec": {
   "display_name": "Python 3",
   "language": "python",
   "name": "python3"
  },
  "language_info": {
   "codemirror_mode": {
    "name": "ipython",
    "version": 3
   },
   "file_extension": ".py",
   "mimetype": "text/x-python",
   "name": "python",
   "nbconvert_exporter": "python",
   "pygments_lexer": "ipython3",
   "version": "3.7.7"
  }
 },
 "nbformat": 4,
 "nbformat_minor": 2
}
