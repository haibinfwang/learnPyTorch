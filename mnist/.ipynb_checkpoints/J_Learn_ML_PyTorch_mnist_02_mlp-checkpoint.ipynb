{
 "cells": [
  {
   "cell_type": "code",
   "execution_count": 1,
   "metadata": {},
   "outputs": [],
   "source": [
    "\n",
    "#J_Learn_ML_PyTorch_mnist_02_mlp\n",
    "# Fit MLP on mnist\n",
    "import numpy as np\n",
    "\n",
    "import torch\n",
    "import torchvision\n",
    "\n",
    "import os\n",
    "import matplotlib.pyplot as plt\n",
    "%matplotlib inline\n",
    "import copy\n",
    "\n",
    "from IPython.core.debugger import Pdb\n"
   ]
  },
  {
   "cell_type": "markdown",
   "metadata": {},
   "source": [
    "## 1. Loading data, and sampling mechanisms"
   ]
  },
  {
   "cell_type": "code",
   "execution_count": 2,
   "metadata": {
    "scrolled": false
   },
   "outputs": [
    {
     "name": "stdout",
     "output_type": "stream",
     "text": [
      "Downloading http://yann.lecun.com/exdb/mnist/train-images-idx3-ubyte.gz\n",
      "Downloading http://yann.lecun.com/exdb/mnist/train-labels-idx1-ubyte.gz\n",
      "Downloading http://yann.lecun.com/exdb/mnist/t10k-images-idx3-ubyte.gz\n",
      "Downloading http://yann.lecun.com/exdb/mnist/t10k-labels-idx1-ubyte.gz\n",
      "Processing...\n",
      "Done!\n"
     ]
    }
   ],
   "source": [
    "# 1.1 Dataset\n",
    "trainset=torchvision.datasets.MNIST('/tmp',train=True,download=True,\n",
    "                                    transform=torchvision.transforms.ToTensor())\n",
    "\n",
    "# 1.3 train-validation partition\n",
    "tvRatio=0.8\n",
    "batchSz=128\n",
    "\n",
    "nSample=len(trainset)\n",
    "nTrain=int(nSample*tvRatio)\n",
    "idxPerm=np.random.permutation(nSample)\n",
    "idx_t=idxPerm[:nTrain]\n",
    "idx_v=idxPerm[nTrain:]\n",
    "\n",
    "sampler_t=torch.utils.data.sampler.SubsetRandomSampler(idx_t)\n",
    "sampler_v=torch.utils.data.sampler.SubsetRandomSampler(idx_v)\n",
    "\n",
    "loader_t=torch.utils.data.DataLoader(dataset=trainset,batch_size=batchSz,sampler=sampler_t,\n",
    "                                     drop_last=True)\n",
    "loader_v=torch.utils.data.DataLoader(dataset=trainset,batch_size=batchSz,sampler=sampler_v,\n",
    "                                     drop_last=False)\n"
   ]
  },
  {
   "cell_type": "markdown",
   "metadata": {},
   "source": [
    "## 2. Specification of neural network"
   ]
  },
  {
   "cell_type": "code",
   "execution_count": 3,
   "metadata": {},
   "outputs": [
    {
     "name": "stdout",
     "output_type": "stream",
     "text": [
      "cuda:0\n"
     ]
    }
   ],
   "source": [
    "class MLP(torch.nn.Module):\n",
    "    def __init__(self,nFeat,nClass):\n",
    "        super(MLP,self).__init__()\n",
    "        self.fc_1=torch.nn.Linear(nFeat,300)\n",
    "        self.relu_1=torch.nn.ReLU()\n",
    "        self.fc_o=torch.nn.Linear(300,nClass)\n",
    "        self.out=torch.nn.LogSoftmax(dim=1)\n",
    "        \n",
    "    def forward(self,x):\n",
    "        \"\"\"x should be [N x nFeature]\"\"\"\n",
    "        x=self.fc_1(x)\n",
    "        x=self.relu_1(x)\n",
    "        x=self.fc_o(x)\n",
    "        x=self.out(x)\n",
    "        return x\n",
    "\n",
    "    \n",
    "# GPU\n",
    "device=torch.device('cuda:0' if torch.cuda.is_available else 'cpu')\n",
    "print(device)"
   ]
  },
  {
   "cell_type": "markdown",
   "metadata": {},
   "source": [
    "## 3. Training\n",
    "The major steps of training is to\n",
    "  - Compute the predicated value from the neural network, by calling iutput=net(input)\n",
    "      - zero out all grad before calling net(), using optimizer.zero_grad()\n",
    "  - Compute loss, by calling loss=loss_function(output, input)\n",
    "  - Obtain the derivatives of loss w.r.t. each parameter, by calling loss.backward()\n",
    "  - Modify the parameters as specified by optimizer, calling optimizer.step()\n",
    "\n"
   ]
  },
  {
   "cell_type": "code",
   "execution_count": 12,
   "metadata": {
    "scrolled": true
   },
   "outputs": [
    {
     "name": "stdout",
     "output_type": "stream",
     "text": [
      "MLP(\n",
      "  (fc_1): Linear(in_features=784, out_features=300, bias=True)\n",
      "  (relu_1): ReLU()\n",
      "  (fc_o): Linear(in_features=300, out_features=10, bias=True)\n",
      "  (out): LogSoftmax()\n",
      ")\n"
     ]
    }
   ],
   "source": [
    "# Hyperparameters -------\n",
    "lhyper={'nEpoch':100, 'early':15, 'batchSz':batchSz,\n",
    "        'lr':0.001, 'lrReduce':0.5, 'lrPatience':6,\n",
    "        'pDrop':0.0, 'weight_decay':0.5}\n",
    "\n",
    "# Neural network --------\n",
    "# Feature dimensions\n",
    "img,_=next(iter(loader_t))\n",
    "nFeat=img.size(1)*img.size(2)*img.size(3)\n",
    "nClass=10 # digits\n",
    "\n",
    "net=MLP(nFeat,nClass).to(device)\n",
    "print(net)\n",
    "\n",
    "# Loss, optimizer -------\n",
    "#metricF=torch.nn.NLLLoss(reduction='elementwise_mean')  # **look at .grad_fn attribute**\n",
    "metricF=torch.nn.NLLLoss(reduction='none')  # **look at .grad_fn attribute**\n",
    "optimizer=torch.optim.Adam(net.parameters(),lr=lhyper['lr'],\n",
    "                           weight_decay=lhyper['weight_decay'])\n",
    "\n",
    "# Learning rate scheduler ------\n",
    "lrScheduler=torch.optim.lr_scheduler.ReduceLROnPlateau(optimizer,mode='min',\n",
    "                                                       factor=lhyper['lrReduce'],\n",
    "                                                       patience=lhyper['lrPatience'],verbose=True)"
   ]
  },
  {
   "cell_type": "code",
   "execution_count": 13,
   "metadata": {
    "scrolled": false
   },
   "outputs": [
    {
     "name": "stdout",
     "output_type": "stream",
     "text": [
      "0/100: loss train=0.4283, val=0.2837\n",
      "  bestEpoch=0, val=0.2837\n",
      "1/100: loss train=0.2461, val=0.2241\n",
      "  bestEpoch=1, val=0.2241\n",
      "2/100: loss train=0.2115, val=0.1960\n",
      "  bestEpoch=2, val=0.1960\n",
      "3/100: loss train=0.1951, val=0.1983\n",
      "  bestEpoch=2, val=0.1960\n",
      "4/100: loss train=0.1855, val=0.1744\n",
      "  bestEpoch=4, val=0.1744\n",
      "5/100: loss train=0.1780, val=0.1738\n",
      "  bestEpoch=5, val=0.1738\n",
      "6/100: loss train=0.1730, val=0.1726\n",
      "  bestEpoch=6, val=0.1726\n",
      "7/100: loss train=0.1717, val=0.1682\n",
      "  bestEpoch=7, val=0.1682\n",
      "8/100: loss train=0.1701, val=0.1638\n",
      "  bestEpoch=8, val=0.1638\n",
      "9/100: loss train=0.1683, val=0.1767\n",
      "  bestEpoch=8, val=0.1638\n",
      "10/100: loss train=0.1683, val=0.1667\n",
      "  bestEpoch=8, val=0.1638\n",
      "11/100: loss train=0.1673, val=0.1700\n",
      "  bestEpoch=8, val=0.1638\n",
      "12/100: loss train=0.1646, val=0.1695\n",
      "  bestEpoch=8, val=0.1638\n",
      "13/100: loss train=0.1659, val=0.1617\n",
      "  bestEpoch=13, val=0.1617\n",
      "14/100: loss train=0.1648, val=0.1693\n",
      "  bestEpoch=13, val=0.1617\n",
      "15/100: loss train=0.1641, val=0.1614\n",
      "  bestEpoch=15, val=0.1614\n",
      "16/100: loss train=0.1638, val=0.1668\n",
      "  bestEpoch=15, val=0.1614\n",
      "17/100: loss train=0.1618, val=0.1659\n",
      "  bestEpoch=15, val=0.1614\n",
      "18/100: loss train=0.1618, val=0.1628\n",
      "  bestEpoch=15, val=0.1614\n",
      "19/100: loss train=0.1627, val=0.1602\n",
      "  bestEpoch=19, val=0.1602\n",
      "20/100: loss train=0.1620, val=0.1653\n",
      "  bestEpoch=19, val=0.1602\n",
      "21/100: loss train=0.1605, val=0.1633\n",
      "  bestEpoch=19, val=0.1602\n",
      "22/100: loss train=0.1606, val=0.1647\n",
      "  bestEpoch=19, val=0.1602\n",
      "23/100: loss train=0.1609, val=0.1726\n",
      "  bestEpoch=19, val=0.1602\n",
      "24/100: loss train=0.1617, val=0.1623\n",
      "  bestEpoch=19, val=0.1602\n",
      "25/100: loss train=0.1603, val=0.1623\n",
      "  bestEpoch=19, val=0.1602\n",
      "26/100: loss train=0.1596, val=0.1604\n",
      "  bestEpoch=19, val=0.1602\n",
      "Epoch    26: reducing learning rate of group 0 to 5.0000e-04.\n",
      "27/100: loss train=0.1524, val=0.1575\n",
      "  bestEpoch=27, val=0.1575\n",
      "28/100: loss train=0.1533, val=0.1574\n",
      "  bestEpoch=28, val=0.1574\n",
      "29/100: loss train=0.1522, val=0.1582\n",
      "  bestEpoch=28, val=0.1574\n",
      "30/100: loss train=0.1523, val=0.1569\n",
      "  bestEpoch=30, val=0.1569\n",
      "31/100: loss train=0.1529, val=0.1575\n",
      "  bestEpoch=30, val=0.1569\n",
      "32/100: loss train=0.1522, val=0.1593\n",
      "  bestEpoch=30, val=0.1569\n",
      "33/100: loss train=0.1521, val=0.1581\n",
      "  bestEpoch=30, val=0.1569\n",
      "34/100: loss train=0.1521, val=0.1609\n",
      "  bestEpoch=30, val=0.1569\n",
      "35/100: loss train=0.1525, val=0.1555\n",
      "  bestEpoch=35, val=0.1555\n",
      "36/100: loss train=0.1519, val=0.1594\n",
      "  bestEpoch=35, val=0.1555\n",
      "37/100: loss train=0.1519, val=0.1562\n",
      "  bestEpoch=35, val=0.1555\n",
      "38/100: loss train=0.1517, val=0.1568\n",
      "  bestEpoch=35, val=0.1555\n",
      "39/100: loss train=0.1520, val=0.1560\n",
      "  bestEpoch=35, val=0.1555\n",
      "40/100: loss train=0.1513, val=0.1568\n",
      "  bestEpoch=35, val=0.1555\n",
      "41/100: loss train=0.1521, val=0.1563\n",
      "  bestEpoch=35, val=0.1555\n",
      "42/100: loss train=0.1517, val=0.1572\n",
      "  bestEpoch=35, val=0.1555\n",
      "Epoch    42: reducing learning rate of group 0 to 2.5000e-04.\n",
      "43/100: loss train=0.1473, val=0.1548\n",
      "  bestEpoch=43, val=0.1548\n",
      "44/100: loss train=0.1475, val=0.1564\n",
      "  bestEpoch=43, val=0.1548\n",
      "45/100: loss train=0.1476, val=0.1542\n",
      "  bestEpoch=45, val=0.1542\n",
      "46/100: loss train=0.1476, val=0.1535\n",
      "  bestEpoch=46, val=0.1535\n",
      "47/100: loss train=0.1475, val=0.1554\n",
      "  bestEpoch=46, val=0.1535\n",
      "48/100: loss train=0.1473, val=0.1553\n",
      "  bestEpoch=46, val=0.1535\n",
      "49/100: loss train=0.1474, val=0.1562\n",
      "  bestEpoch=46, val=0.1535\n",
      "50/100: loss train=0.1476, val=0.1544\n",
      "  bestEpoch=46, val=0.1535\n",
      "51/100: loss train=0.1475, val=0.1541\n",
      "  bestEpoch=46, val=0.1535\n",
      "52/100: loss train=0.1475, val=0.1544\n",
      "  bestEpoch=46, val=0.1535\n",
      "53/100: loss train=0.1473, val=0.1555\n",
      "  bestEpoch=46, val=0.1535\n",
      "Epoch    53: reducing learning rate of group 0 to 1.2500e-04.\n",
      "54/100: loss train=0.1450, val=0.1537\n",
      "  bestEpoch=46, val=0.1535\n",
      "55/100: loss train=0.1451, val=0.1537\n",
      "  bestEpoch=46, val=0.1535\n",
      "56/100: loss train=0.1450, val=0.1538\n",
      "  bestEpoch=46, val=0.1535\n",
      "57/100: loss train=0.1451, val=0.1541\n",
      "  bestEpoch=46, val=0.1535\n",
      "58/100: loss train=0.1450, val=0.1538\n",
      "  bestEpoch=46, val=0.1535\n",
      "59/100: loss train=0.1450, val=0.1534\n",
      "  bestEpoch=59, val=0.1534\n",
      "60/100: loss train=0.1449, val=0.1536\n",
      "  bestEpoch=59, val=0.1534\n",
      "61/100: loss train=0.1451, val=0.1537\n",
      "  bestEpoch=59, val=0.1534\n",
      "62/100: loss train=0.1450, val=0.1541\n",
      "  bestEpoch=59, val=0.1534\n",
      "63/100: loss train=0.1454, val=0.1529\n",
      "  bestEpoch=63, val=0.1529\n",
      "64/100: loss train=0.1449, val=0.1542\n",
      "  bestEpoch=63, val=0.1529\n",
      "65/100: loss train=0.1449, val=0.1537\n",
      "  bestEpoch=63, val=0.1529\n",
      "66/100: loss train=0.1450, val=0.1538\n",
      "  bestEpoch=63, val=0.1529\n",
      "67/100: loss train=0.1449, val=0.1538\n",
      "  bestEpoch=63, val=0.1529\n",
      "68/100: loss train=0.1448, val=0.1534\n",
      "  bestEpoch=63, val=0.1529\n",
      "69/100: loss train=0.1448, val=0.1529\n",
      "  bestEpoch=69, val=0.1529\n",
      "70/100: loss train=0.1449, val=0.1532\n",
      "  bestEpoch=69, val=0.1529\n",
      "71/100: loss train=0.1449, val=0.1540\n",
      "  bestEpoch=69, val=0.1529\n",
      "72/100: loss train=0.1445, val=0.1529\n",
      "  bestEpoch=69, val=0.1529\n",
      "73/100: loss train=0.1448, val=0.1544\n",
      "  bestEpoch=69, val=0.1529\n",
      "74/100: loss train=0.1449, val=0.1536\n",
      "  bestEpoch=69, val=0.1529\n",
      "75/100: loss train=0.1448, val=0.1541\n",
      "  bestEpoch=69, val=0.1529\n",
      "76/100: loss train=0.1448, val=0.1529\n",
      "  bestEpoch=69, val=0.1529\n",
      "Epoch    76: reducing learning rate of group 0 to 6.2500e-05.\n",
      "77/100: loss train=0.1435, val=0.1534\n",
      "  bestEpoch=69, val=0.1529\n",
      "78/100: loss train=0.1434, val=0.1528\n",
      "  bestEpoch=78, val=0.1528\n",
      "79/100: loss train=0.1433, val=0.1527\n",
      "  bestEpoch=79, val=0.1527\n",
      "80/100: loss train=0.1434, val=0.1533\n",
      "  bestEpoch=79, val=0.1527\n",
      "81/100: loss train=0.1433, val=0.1528\n",
      "  bestEpoch=79, val=0.1527\n",
      "82/100: loss train=0.1435, val=0.1530\n",
      "  bestEpoch=79, val=0.1527\n",
      "83/100: loss train=0.1435, val=0.1528\n",
      "  bestEpoch=79, val=0.1527\n",
      "84/100: loss train=0.1434, val=0.1534\n",
      "  bestEpoch=79, val=0.1527\n",
      "85/100: loss train=0.1435, val=0.1528\n",
      "  bestEpoch=79, val=0.1527\n",
      "86/100: loss train=0.1434, val=0.1540\n",
      "  bestEpoch=79, val=0.1527\n",
      "Epoch    86: reducing learning rate of group 0 to 3.1250e-05.\n",
      "87/100: loss train=0.1427, val=0.1529\n",
      "  bestEpoch=79, val=0.1527\n",
      "88/100: loss train=0.1426, val=0.1529\n",
      "  bestEpoch=79, val=0.1527\n",
      "89/100: loss train=0.1426, val=0.1527\n",
      "  bestEpoch=89, val=0.1527\n",
      "90/100: loss train=0.1427, val=0.1529\n",
      "  bestEpoch=89, val=0.1527\n",
      "91/100: loss train=0.1426, val=0.1532\n",
      "  bestEpoch=89, val=0.1527\n",
      "92/100: loss train=0.1426, val=0.1529\n",
      "  bestEpoch=89, val=0.1527\n",
      "93/100: loss train=0.1426, val=0.1531\n",
      "  bestEpoch=89, val=0.1527\n",
      "94/100: loss train=0.1426, val=0.1528\n",
      "  bestEpoch=89, val=0.1527\n",
      "95/100: loss train=0.1426, val=0.1528\n",
      "  bestEpoch=89, val=0.1527\n",
      "96/100: loss train=0.1427, val=0.1530\n",
      "  bestEpoch=89, val=0.1527\n",
      "Epoch    96: reducing learning rate of group 0 to 1.5625e-05.\n",
      "97/100: loss train=0.1422, val=0.1528\n",
      "  bestEpoch=89, val=0.1527\n",
      "98/100: loss train=0.1422, val=0.1528\n",
      "  bestEpoch=89, val=0.1527\n",
      "99/100: loss train=0.1422, val=0.1531\n",
      "  bestEpoch=89, val=0.1527\n"
     ]
    },
    {
     "data": {
      "text/plain": [
       "Text(0.5,0,'epoch')"
      ]
     },
     "execution_count": 13,
     "metadata": {},
     "output_type": "execute_result"
    },
    {
     "data": {
      "image/png": "[encoded data removed]",
      "text/plain": [
       "<matplotlib.figure.Figure at 0x7fa7504b63c8>"
      ]
     },
     "metadata": {},
     "output_type": "display_data"
    }
   ],
   "source": [
    "lossC={'t':np.zeros((lhyper['nEpoch'],),dtype=np.float32),\n",
    "       'v':np.zeros((lhyper['nEpoch'],),dtype=np.float32)}\n",
    "bestLoss={'t':np.inf, 'v':np.inf, 'epoch':-1}\n",
    "bestWeight=None\n",
    "\n",
    "# Training loop ------\n",
    "for iEpoch in range(lhyper['nEpoch']):\n",
    "    # Train\n",
    "    net.train(mode=True)\n",
    "    for iBatch, (img, label) in enumerate(loader_t):\n",
    "        optimizer.zero_grad() # Understand why *****\n",
    "        curYp=net(img.view(-1,nFeat).to(device))\n",
    "        #loss=metricF(curYp,label.to(device)) # with 'elementwise_mean'\n",
    "        loss=torch.sum(metricF(curYp,label.to(device))) # with reduction='none'\n",
    "        loss.backward()\n",
    "        optimizer.step()\n",
    "        lossC['t'][iEpoch]+=loss.item()\n",
    "    lossC['t'][iEpoch] /= (iBatch+1)*batchSz # Training discarded incomplete batch\n",
    "    #lossC['t'][iEpoch] /= (iBatch+1) # with 'elementwise_mean'\n",
    "        \n",
    "    # Validation\n",
    "    net.train(mode=False)\n",
    "    for iBatch, (img, label) in enumerate(loader_v):\n",
    "        curYp=net(img.view(-1,nFeat).to(device))\n",
    "        #loss=metricF(curYp,label.to(device)) # with 'elementwise_mean'\n",
    "        loss=torch.sum(metricF(curYp,label.to(device)))\n",
    "        lossC['v'][iEpoch]+=loss.item()\n",
    "    lossC['v'][iEpoch] /= idx_v.shape[0] # Validation uses all data\n",
    "    #lossC['v'][iEpoch] /= (iBatch+1) # with 'elementwise_mean'\n",
    "    \n",
    "    # End of epoch processing: lr adjustment, early stop, loop output\n",
    "    if lossC['v'][iEpoch]<bestLoss['v']:\n",
    "        bestLoss.update({'t':lossC['t'][iEpoch], 'v':lossC['v'][iEpoch], 'epoch':iEpoch})\n",
    "        bestWeight=copy.deepcopy(net.state_dict())\n",
    "    print('{:d}/{:d}: loss train={:.4f}, val={:.4f}'.format(iEpoch,lhyper['nEpoch'],lossC['t'][iEpoch],\n",
    "                                                            lossC['v'][iEpoch]))\n",
    "    print('  bestEpoch={:d}, val={:.4f}'.format(bestLoss['epoch'],bestLoss['v']))\n",
    "    if iEpoch>bestLoss['epoch']+lhyper['early']:\n",
    "        break\n",
    "    lrScheduler.step(lossC['v'][iEpoch])\n",
    "lastEpoch=iEpoch\n",
    "\n",
    "# Learning curve -----\n",
    "plt.figure(1,figsize=(4,3))\n",
    "plt.clf()\n",
    "_,ax=plt.subplots(nrows=1,ncols=1,num=1)\n",
    "ax.plot(lossC['t'][:lastEpoch],'-',color='b',label='Train')\n",
    "ax.plot(lossC['v'][:lastEpoch],'-',color=[1,.5,0],label='Val')\n",
    "ax.plot(bestLoss['epoch'],bestLoss['v'],'x',color='k',label='best [{:.4f}]'.format(bestLoss['v']))\n",
    "ax.legend()\n",
    "ax.grid()\n",
    "ax.set_ylabel('loss')\n",
    "ax.set_xlabel('epoch')"
   ]
  },
  {
   "cell_type": "markdown",
   "metadata": {},
   "source": [
    "## 4. Evaluation"
   ]
  },
  {
   "cell_type": "code",
   "execution_count": 14,
   "metadata": {
    "scrolled": false
   },
   "outputs": [],
   "source": [
    "def predict(model,loader,nFeat):\n",
    "    \"\"\"Predict\n",
    "    \n",
    "    Need nFeat to convert image (2D) to vector\n",
    "    \"\"\"\n",
    "    pv=[]\n",
    "    label=[]\n",
    "    loss=0\n",
    "    for iBatch, (img, label_) in enumerate(loader):\n",
    "        label.append(label_.numpy())\n",
    "        curYp=net(img.view(-1,nFeat).to(model['device']))\n",
    "        loss+=torch.sum(model['metric'](curYp,label_.to(model['device']))).data.item()\n",
    "        pv.append(curYp.to('cpu').detach().numpy())\n",
    "    pv=np.concatenate(pv,axis=0)\n",
    "    label=np.concatenate(label,axis=0)\n",
    "    return pv,label,loss\n",
    "\n",
    "# Best net\n",
    "bestNet=MLP(nFeat,nClass)\n",
    "bestNet.load_state_dict(bestWeight)\n",
    "bestNet.to(device)\n",
    "bestNet.train(mode=False)\n",
    "\n",
    "model={'net':bestNet, 'metric':metricF, 'device':device}"
   ]
  },
  {
   "cell_type": "code",
   "execution_count": 15,
   "metadata": {},
   "outputs": [
    {
     "name": "stdout",
     "output_type": "stream",
     "text": [
      "Train accuracy: 46476/48000 = 0.9683\n",
      "Validation accuracy: 11569/12000 = 0.9641\n"
     ]
    }
   ],
   "source": [
    "# Training\n",
    "pv_t,label_t,loss_t=predict(model,loader_t,nFeat)\n",
    "pred_t=np.argmax(pv_t,axis=1)\n",
    "print('Train accuracy: {:d}/{:d} = {:.4f}'.format(np.sum(pred_t==label_t),label_t.shape[0],\n",
    "                                                  np.sum(pred_t==label_t)/label_t.shape[0]) )\n",
    "\n",
    "# Validation\n",
    "pv_v,label_v,loss_v=predict(model,loader_v,nFeat)\n",
    "pred_v=np.argmax(pv_v,axis=1)\n",
    "print('Validation accuracy: {:d}/{:d} = {:.4f}'.format(np.sum(pred_v==label_v),label_v.shape[0],\n",
    "                                                       np.sum(pred_v==label_v)/label_v.shape[0]) )\n"
   ]
  },
  {
   "cell_type": "code",
   "execution_count": 17,
   "metadata": {},
   "outputs": [
    {
     "name": "stdout",
     "output_type": "stream",
     "text": [
      "Test accuracy: 9657/10000 = 0.9657\n"
     ]
    }
   ],
   "source": [
    "# compare results with http://yann.lecun.com/exdb/mnist/\n",
    "checkset=torchvision.datasets.MNIST('/tmp',train=False,download=True,\n",
    "                                    transform=torchvision.transforms.ToTensor())\n",
    "loader_c=torch.utils.data.DataLoader(checkset,batch_size=batchSz,shuffle=False)\n",
    "pv_c,label_c,loss_c=predict(model,loader_c,nFeat)\n",
    "pred_c=np.argmax(pv_c,axis=1)\n",
    "print('Test accuracy: 1-{:d}/{:d} = {:.4f}'.format(np.sum(pred_c==label_c),label_c.shape[0],\n",
    "                                                   1-np.sum(pred_c==label_c)/label_c.shape[0]) )"
   ]
  },
  {
   "cell_type": "code",
   "execution_count": 11,
   "metadata": {},
   "outputs": [
    {
     "data": {
      "text/plain": [
       "10000"
      ]
     },
     "execution_count": 11,
     "metadata": {},
     "output_type": "execute_result"
    }
   ],
   "source": [
    "len(checkset)"
   ]
  },
  {
   "cell_type": "markdown",
   "metadata": {},
   "source": [
    "## 5. Next step\n",
    "\n",
    "  - Autoencode and autodecoder, compare with PCA for e.g. 2 dimension code\n",
    "  - Convolution neural network\n",
    "      - Visualizing the feature extraction and other ways to understand the neural network behavior\n",
    "      "
   ]
  }
 ],
 "metadata": {
  "kernelspec": {
   "display_name": "Python 3",
   "language": "python",
   "name": "python3"
  },
  "language_info": {
   "codemirror_mode": {
    "name": "ipython",
    "version": 3
   },
   "file_extension": ".py",
   "mimetype": "text/x-python",
   "name": "python",
   "nbconvert_exporter": "python",
   "pygments_lexer": "ipython3",
   "version": "3.6.8"
  }
 },
 "nbformat": 4,
 "nbformat_minor": 2
}
