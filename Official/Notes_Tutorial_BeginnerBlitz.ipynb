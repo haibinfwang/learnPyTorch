{
 "cells": [
  {
   "cell_type": "markdown",
   "metadata": {},
   "source": [
    "# Notes on Deep Learning with PyTorch: A 60 Minute Blitz\n"
   ]
  },
  {
   "cell_type": "code",
   "execution_count": 3,
   "metadata": {},
   "outputs": [
    {
     "name": "stdout",
     "output_type": "stream",
     "text": [
      "PyTorch verion: 1.7.1\n"
     ]
    }
   ],
   "source": [
    "import torch, torchvision\n",
    "import numpy as np\n",
    "print(f'PyTorch verion: {torch.__version__}')"
   ]
  },
  {
   "cell_type": "markdown",
   "metadata": {
    "heading_collapsed": true
   },
   "source": [
    "## 1. Tensors\n",
    "\n",
    "https://pytorch.org/tutorials/beginner/blitz/tensor_tutorial.html#sphx-glr-beginner-blitz-tensor-tutorial-py\n"
   ]
  },
  {
   "cell_type": "markdown",
   "metadata": {
    "hidden": true
   },
   "source": [
    "### 1.1 Tenosr initialization\n",
    "\n",
    "Tensor can be initialized\n",
    " - from data (list-like) directly, torch.tensor()\n",
    " - from nmpy array, torch.from_numpy()\n",
    " - from another tensor, torch.ones_like() and torch.rand_like(), which keep shape and dtype of the original, unless orverriden\n",
    " - with random or constant values, torch.rand(), torch.ones(), torch.zeros()\n",
    "\n",
    "\n",
    "### 1.2 Tensor Attributes\n",
    "  - shape (tensor.shape)\n",
    "  - datatype (tensor.dtype)\n",
    "  - the device (tensor.device) on which they are stored.\n",
    "\n",
    "\n",
    "### 1.3 Tensor Operations\n",
    "\n",
    "See the API documentation, section Torch.\n",
    " - Tensor operations is very much like numpy array\n",
    " - Move tensor to GPU, using tensor.to('cuda')\n",
    "   - Use torch.cuda.is_available() to test if GPU is available\n",
    " - Operations that have a _ suffix are in-place.\n",
    "   - tensor.add_(5) changes tensor\n",
    "   - In-place operations save some memory, but can be problematic when computing derivatives because of an immediate loss of history. Hence, their use is discouraged.\n",
    "   \n",
    "### 1.4 Bridge with NumPy\n",
    "Tensors on the CPU and NumPy arrays can share their underlying memory locations, and changing one will change the other. The bridge refers to tensor.numpy() and torch.from_numpy()\n"
   ]
  },
  {
   "cell_type": "markdown",
   "metadata": {},
   "source": [
    "## 2. A Gental introduction to torch.autograd()\n"
   ]
  },
  {
   "cell_type": "markdown",
   "metadata": {},
   "source": [
    "The back propagation should be perfomred on Q.sum(), as is usually the case in real training. The components of tensors a and b are basically different samples."
   ]
  },
  {
   "cell_type": "code",
   "execution_count": 19,
   "metadata": {},
   "outputs": [
    {
     "name": "stdout",
     "output_type": "stream",
     "text": [
      "tensor([True, True])\n",
      "tensor([True, True])\n"
     ]
    }
   ],
   "source": [
    "a = torch.tensor([2., 3.], requires_grad=True)\n",
    "b = torch.tensor([6., 4.], requires_grad=True)\n",
    "Q = 3*a**3 - b**2\n",
    "Q.sum().backward()\n",
    "# external_grad = torch.tensor([1., 1.])\n",
    "# Q.backward(gradient=external_grad)\n",
    "print(9*a**2 == a.grad)\n",
    "print(-2*b == b.grad)"
   ]
  },
  {
   "cell_type": "markdown",
   "metadata": {},
   "source": [
    "## 3. Neural network\n",
    "\n",
    "Neural networks can be constructed using the torch.nn package."
   ]
  }
 ],
 "metadata": {
  "kernelspec": {
   "display_name": "Python 3",
   "language": "python",
   "name": "python3"
  },
  "language_info": {
   "codemirror_mode": {
    "name": "ipython",
    "version": 3
   },
   "file_extension": ".py",
   "mimetype": "text/x-python",
   "name": "python",
   "nbconvert_exporter": "python",
   "pygments_lexer": "ipython3",
   "version": "3.7.7"
  }
 },
 "nbformat": 4,
 "nbformat_minor": 4
}
